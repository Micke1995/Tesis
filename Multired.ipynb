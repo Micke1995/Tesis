{
 "cells": [
  {
   "cell_type": "code",
   "execution_count": 24,
   "metadata": {},
   "outputs": [],
   "source": [
    "import numpy as np\n",
    "import tensorflow as tf\n",
    "from tensorflow.keras.layers import Conv1D, MaxPooling1D, Flatten, Dense,BatchNormalization,concatenate,Input\n",
    "from tensorflow.keras.models import Sequential,Model\n"
   ]
  },
  {
   "cell_type": "code",
   "execution_count": 8,
   "metadata": {},
   "outputs": [],
   "source": [
    "# Crear un modelo secuencial\n",
    "model1 = Sequential()\n",
    "# Agregar una capa de convolución 1D\n",
    "model1.add(Conv1D(filters = 64, kernel_size=16, activation='relu', input_shape=(64, 1),padding='same'))\n",
    "# Agregar una capa de pooling 1D\n",
    "model1.add(BatchNormalization())\n",
    "model1.add(MaxPooling1D(pool_size=2))\n",
    "# Agregar otra capa de convolución 1D y pooling\n",
    "model1.add(Conv1D(filters = 32, kernel_size=9, activation='relu',padding='same'))\n",
    "model1.add(MaxPooling1D(pool_size=2))\n",
    "# Aplanar la salida\n",
    "model1.add(Flatten())\n",
    "# Agregar capas totalmente conectadas\n",
    "model1.add(Dense(units = 64, activation='relu'))\n",
    "model1.add(Dense(units = 29, activation='softmax'))  # 29 clases, activación softmax para clasificación multiclase\n",
    "# Compilar el modelo\n",
    "model1.compile(optimizer='adam', loss='categorical_crossentropy', metrics=['accuracy'])\n",
    "# Resumen del modelo\n",
    "#model1.summary()"
   ]
  },
  {
   "cell_type": "code",
   "execution_count": 11,
   "metadata": {},
   "outputs": [],
   "source": [
    "# Crear un modelo secuencial\n",
    "model2 = Sequential()\n",
    "# Agregar una capa de convolución 1D\n",
    "model2.add(Conv1D(filters = 64, kernel_size=16, activation='relu', input_shape=(64, 1),padding='same'))\n",
    "# Agregar una capa de pooling 1D\n",
    "model2.add(BatchNormalization())\n",
    "model2.add(MaxPooling1D(pool_size=2))\n",
    "# Agregar otra capa de convolución 1D y pooling\n",
    "model2.add(Conv1D(filters = 32, kernel_size=9, activation='relu',padding='same'))\n",
    "model2.add(MaxPooling1D(pool_size=2))\n",
    "# Aplanar la salida\n",
    "model2.add(Flatten())\n",
    "# Agregar capas totalmente conectadas\n",
    "model2.add(Dense(units = 64, activation='relu'))\n",
    "model2.add(Dense(units = 29, activation='softmax'))  # 29 clases, activación softmax para clasificación multiclase\n",
    "# Compilar el modelo\n",
    "model2.compile(optimizer='adam', loss='categorical_crossentropy', metrics=['accuracy'])\n",
    "# Resumen del modelo\n",
    "#model2.summary()"
   ]
  },
  {
   "cell_type": "code",
   "execution_count": 10,
   "metadata": {},
   "outputs": [],
   "source": [
    "# Crear un modelo secuencial\n",
    "model3 = Sequential()\n",
    "# Agregar una capa de convolución 1D\n",
    "model3.add(Conv1D(filters = 64, kernel_size=16, activation='relu', input_shape=(64, 1),padding='same'))\n",
    "# Agregar una capa de pooling 1D\n",
    "model3.add(BatchNormalization())\n",
    "model3.add(MaxPooling1D(pool_size=2))\n",
    "# Agregar otra capa de convolución 1D y pooling\n",
    "model3.add(Conv1D(filters = 32, kernel_size=9, activation='relu',padding='same'))\n",
    "model3.add(MaxPooling1D(pool_size=2))\n",
    "# Aplanar la salida\n",
    "model3.add(Flatten())\n",
    "# Agregar capas totalmente conectadas\n",
    "model3.add(Dense(units = 64, activation='relu'))\n",
    "model3.add(Dense(units = 29, activation='softmax'))  # 29 clases, activación softmax para clasificación multiclase\n",
    "# Compilar el modelo\n",
    "model3.compile(optimizer='adam', loss='categorical_crossentropy', metrics=['accuracy'])\n",
    "# Resumen del modelo\n",
    "#model3.summary()"
   ]
  },
  {
   "cell_type": "code",
   "execution_count": 12,
   "metadata": {},
   "outputs": [],
   "source": [
    "# Crear un modelo secuencial\n",
    "model4 = Sequential()\n",
    "# Agregar una capa de convolución 1D\n",
    "model4.add(Conv1D(filters = 64, kernel_size=16, activation='relu', input_shape=(64, 1),padding='same'))\n",
    "# Agregar una capa de pooling 1D\n",
    "model4.add(BatchNormalization())\n",
    "model4.add(MaxPooling1D(pool_size=2))\n",
    "# Agregar otra capa de convolución 1D y pooling\n",
    "model4.add(Conv1D(filters = 32, kernel_size=9, activation='relu',padding='same'))\n",
    "model4.add(MaxPooling1D(pool_size=2))\n",
    "# Aplanar la salida\n",
    "model4.add(Flatten())\n",
    "# Agregar capas totalmente conectadas\n",
    "model4.add(Dense(units = 64, activation='relu'))\n",
    "model4.add(Dense(units = 29, activation='softmax'))  # 29 clases, activación softmax para clasificación multiclase\n",
    "# Compilar el modelo\n",
    "model4.compile(optimizer='adam', loss='categorical_crossentropy', metrics=['accuracy'])\n",
    "# Resumen del modelo\n",
    "#model1.summary()"
   ]
  },
  {
   "cell_type": "code",
   "execution_count": 25,
   "metadata": {},
   "outputs": [],
   "source": [
    "imputl= Input(shape=(64,1))"
   ]
  },
  {
   "cell_type": "code",
   "execution_count": 16,
   "metadata": {},
   "outputs": [],
   "source": [
    "AllModels = concatenate([model1.output,model2.output,model3.output,model4.output])"
   ]
  },
  {
   "cell_type": "code",
   "execution_count": 28,
   "metadata": {},
   "outputs": [],
   "source": [
    "output=Dense(30,activation='relu')(AllModels)"
   ]
  },
  {
   "cell_type": "code",
   "execution_count": 33,
   "metadata": {},
   "outputs": [
    {
     "data": {
      "text/plain": [
       "TensorShape([None, 116])"
      ]
     },
     "execution_count": 33,
     "metadata": {},
     "output_type": "execute_result"
    }
   ],
   "source": []
  },
  {
   "cell_type": "code",
   "execution_count": 21,
   "metadata": {},
   "outputs": [],
   "source": [
    "lay2=Conv1D(filters = 64, kernel_size=16, activation='relu', input_shape=(64, 1),padding='same')(model1.input)"
   ]
  },
  {
   "cell_type": "code",
   "execution_count": 31,
   "metadata": {},
   "outputs": [
    {
     "ename": "ValueError",
     "evalue": "Graph disconnected: cannot obtain value for tensor KerasTensor(type_spec=TensorSpec(shape=(None, 64, 1), dtype=tf.float32, name='conv1d_11_input'), name='conv1d_11_input', description=\"created by layer 'conv1d_11_input'\") at layer \"conv1d_11\". The following previous layers were accessed without issue: []",
     "output_type": "error",
     "traceback": [
      "\u001b[1;31m---------------------------------------------------------------------------\u001b[0m",
      "\u001b[1;31mValueError\u001b[0m                                Traceback (most recent call last)",
      "\u001b[1;32mc:\\Users\\micke\\OneDrive\\Documentos\\Tesis\\Multired.ipynb Cell 10\u001b[0m line \u001b[0;36m1\n\u001b[1;32m----> <a href='vscode-notebook-cell:/c%3A/Users/micke/OneDrive/Documentos/Tesis/Multired.ipynb#X10sZmlsZQ%3D%3D?line=0'>1</a>\u001b[0m Model(inputs\u001b[39m=\u001b[39;49mimputl,outputs\u001b[39m=\u001b[39;49moutput)\n",
      "File \u001b[1;32mc:\\Python\\Python311\\Lib\\site-packages\\tensorflow\\python\\trackable\\base.py:204\u001b[0m, in \u001b[0;36mno_automatic_dependency_tracking.<locals>._method_wrapper\u001b[1;34m(self, *args, **kwargs)\u001b[0m\n\u001b[0;32m    202\u001b[0m \u001b[39mself\u001b[39m\u001b[39m.\u001b[39m_self_setattr_tracking \u001b[39m=\u001b[39m \u001b[39mFalse\u001b[39;00m  \u001b[39m# pylint: disable=protected-access\u001b[39;00m\n\u001b[0;32m    203\u001b[0m \u001b[39mtry\u001b[39;00m:\n\u001b[1;32m--> 204\u001b[0m   result \u001b[39m=\u001b[39m method(\u001b[39mself\u001b[39;49m, \u001b[39m*\u001b[39;49margs, \u001b[39m*\u001b[39;49m\u001b[39m*\u001b[39;49mkwargs)\n\u001b[0;32m    205\u001b[0m \u001b[39mfinally\u001b[39;00m:\n\u001b[0;32m    206\u001b[0m   \u001b[39mself\u001b[39m\u001b[39m.\u001b[39m_self_setattr_tracking \u001b[39m=\u001b[39m previous_value  \u001b[39m# pylint: disable=protected-access\u001b[39;00m\n",
      "File \u001b[1;32mc:\\Python\\Python311\\Lib\\site-packages\\keras\\src\\engine\\functional.py:167\u001b[0m, in \u001b[0;36mFunctional.__init__\u001b[1;34m(self, inputs, outputs, name, trainable, **kwargs)\u001b[0m\n\u001b[0;32m    158\u001b[0m     \u001b[39mif\u001b[39;00m \u001b[39mnot\u001b[39;00m \u001b[39mall\u001b[39m(\n\u001b[0;32m    159\u001b[0m         [\n\u001b[0;32m    160\u001b[0m             functional_utils\u001b[39m.\u001b[39mis_input_keras_tensor(t)\n\u001b[0;32m    161\u001b[0m             \u001b[39mfor\u001b[39;00m t \u001b[39min\u001b[39;00m tf\u001b[39m.\u001b[39mnest\u001b[39m.\u001b[39mflatten(inputs)\n\u001b[0;32m    162\u001b[0m         ]\n\u001b[0;32m    163\u001b[0m     ):\n\u001b[0;32m    164\u001b[0m         inputs, outputs \u001b[39m=\u001b[39m functional_utils\u001b[39m.\u001b[39mclone_graph_nodes(\n\u001b[0;32m    165\u001b[0m             inputs, outputs\n\u001b[0;32m    166\u001b[0m         )\n\u001b[1;32m--> 167\u001b[0m \u001b[39mself\u001b[39;49m\u001b[39m.\u001b[39;49m_init_graph_network(inputs, outputs)\n",
      "File \u001b[1;32mc:\\Python\\Python311\\Lib\\site-packages\\tensorflow\\python\\trackable\\base.py:204\u001b[0m, in \u001b[0;36mno_automatic_dependency_tracking.<locals>._method_wrapper\u001b[1;34m(self, *args, **kwargs)\u001b[0m\n\u001b[0;32m    202\u001b[0m \u001b[39mself\u001b[39m\u001b[39m.\u001b[39m_self_setattr_tracking \u001b[39m=\u001b[39m \u001b[39mFalse\u001b[39;00m  \u001b[39m# pylint: disable=protected-access\u001b[39;00m\n\u001b[0;32m    203\u001b[0m \u001b[39mtry\u001b[39;00m:\n\u001b[1;32m--> 204\u001b[0m   result \u001b[39m=\u001b[39m method(\u001b[39mself\u001b[39;49m, \u001b[39m*\u001b[39;49margs, \u001b[39m*\u001b[39;49m\u001b[39m*\u001b[39;49mkwargs)\n\u001b[0;32m    205\u001b[0m \u001b[39mfinally\u001b[39;00m:\n\u001b[0;32m    206\u001b[0m   \u001b[39mself\u001b[39m\u001b[39m.\u001b[39m_self_setattr_tracking \u001b[39m=\u001b[39m previous_value  \u001b[39m# pylint: disable=protected-access\u001b[39;00m\n",
      "File \u001b[1;32mc:\\Python\\Python311\\Lib\\site-packages\\keras\\src\\engine\\functional.py:266\u001b[0m, in \u001b[0;36mFunctional._init_graph_network\u001b[1;34m(self, inputs, outputs)\u001b[0m\n\u001b[0;32m    263\u001b[0m     \u001b[39mself\u001b[39m\u001b[39m.\u001b[39m_input_coordinates\u001b[39m.\u001b[39mappend((layer, node_index, tensor_index))\n\u001b[0;32m    265\u001b[0m \u001b[39m# Keep track of the network's nodes and layers.\u001b[39;00m\n\u001b[1;32m--> 266\u001b[0m nodes, nodes_by_depth, layers, _ \u001b[39m=\u001b[39m _map_graph_network(\n\u001b[0;32m    267\u001b[0m     \u001b[39mself\u001b[39;49m\u001b[39m.\u001b[39;49minputs, \u001b[39mself\u001b[39;49m\u001b[39m.\u001b[39;49moutputs\n\u001b[0;32m    268\u001b[0m )\n\u001b[0;32m    269\u001b[0m \u001b[39mself\u001b[39m\u001b[39m.\u001b[39m_network_nodes \u001b[39m=\u001b[39m nodes\n\u001b[0;32m    270\u001b[0m \u001b[39mself\u001b[39m\u001b[39m.\u001b[39m_nodes_by_depth \u001b[39m=\u001b[39m nodes_by_depth\n",
      "File \u001b[1;32mc:\\Python\\Python311\\Lib\\site-packages\\keras\\src\\engine\\functional.py:1142\u001b[0m, in \u001b[0;36m_map_graph_network\u001b[1;34m(inputs, outputs)\u001b[0m\n\u001b[0;32m   1140\u001b[0m \u001b[39mfor\u001b[39;00m x \u001b[39min\u001b[39;00m tf\u001b[39m.\u001b[39mnest\u001b[39m.\u001b[39mflatten(node\u001b[39m.\u001b[39mkeras_inputs):\n\u001b[0;32m   1141\u001b[0m     \u001b[39mif\u001b[39;00m \u001b[39mid\u001b[39m(x) \u001b[39mnot\u001b[39;00m \u001b[39min\u001b[39;00m computable_tensors:\n\u001b[1;32m-> 1142\u001b[0m         \u001b[39mraise\u001b[39;00m \u001b[39mValueError\u001b[39;00m(\n\u001b[0;32m   1143\u001b[0m             \u001b[39m\"\u001b[39m\u001b[39mGraph disconnected: cannot obtain value for \u001b[39m\u001b[39m\"\u001b[39m\n\u001b[0;32m   1144\u001b[0m             \u001b[39mf\u001b[39m\u001b[39m'\u001b[39m\u001b[39mtensor \u001b[39m\u001b[39m{\u001b[39;00mx\u001b[39m}\u001b[39;00m\u001b[39m at layer \u001b[39m\u001b[39m\"\u001b[39m\u001b[39m{\u001b[39;00mlayer\u001b[39m.\u001b[39mname\u001b[39m}\u001b[39;00m\u001b[39m\"\u001b[39m\u001b[39m. \u001b[39m\u001b[39m'\u001b[39m\n\u001b[0;32m   1145\u001b[0m             \u001b[39m\"\u001b[39m\u001b[39mThe following previous layers were accessed \u001b[39m\u001b[39m\"\u001b[39m\n\u001b[0;32m   1146\u001b[0m             \u001b[39mf\u001b[39m\u001b[39m\"\u001b[39m\u001b[39mwithout issue: \u001b[39m\u001b[39m{\u001b[39;00mlayers_with_complete_input\u001b[39m}\u001b[39;00m\u001b[39m\"\u001b[39m\n\u001b[0;32m   1147\u001b[0m         )\n\u001b[0;32m   1148\u001b[0m \u001b[39mfor\u001b[39;00m x \u001b[39min\u001b[39;00m tf\u001b[39m.\u001b[39mnest\u001b[39m.\u001b[39mflatten(node\u001b[39m.\u001b[39moutputs):\n\u001b[0;32m   1149\u001b[0m     computable_tensors\u001b[39m.\u001b[39madd(\u001b[39mid\u001b[39m(x))\n",
      "\u001b[1;31mValueError\u001b[0m: Graph disconnected: cannot obtain value for tensor KerasTensor(type_spec=TensorSpec(shape=(None, 64, 1), dtype=tf.float32, name='conv1d_11_input'), name='conv1d_11_input', description=\"created by layer 'conv1d_11_input'\") at layer \"conv1d_11\". The following previous layers were accessed without issue: []"
     ]
    }
   ],
   "source": [
    "Model(inputs=imputl,outputs=output)"
   ]
  },
  {
   "cell_type": "code",
   "execution_count": 40,
   "metadata": {},
   "outputs": [],
   "source": [
    "visible1 = Input(shape=(64,1))\n",
    "conv11 = Conv1D(32, kernel_size=4, activation='relu')(visible1)\n",
    "pool11 = MaxPooling1D(pool_size=2)(conv11)\n",
    "flat1 = Flatten()(pool11)\n",
    "visible2 = Input(shape=(64,1))\n",
    "conv21 = Conv1D(32, kernel_size=4, activation='relu')(visible2)\n",
    "pool21 = MaxPooling1D(pool_size=2)(conv21)\n",
    "flat2 = Flatten()(pool21)\n",
    "merge = concatenate([flat1, flat2])\n",
    "output = Dense(1, activation='sigmoid')(merge)\n",
    "\n",
    "model = Model(inputs=[visible1, visible2], outputs=output)"
   ]
  },
  {
   "cell_type": "code",
   "execution_count": 38,
   "metadata": {},
   "outputs": [
    {
     "name": "stdout",
     "output_type": "stream",
     "text": [
      "Model: \"model_4\"\n",
      "__________________________________________________________________________________________________\n",
      " Layer (type)                Output Shape                 Param #   Connected to                  \n",
      "==================================================================================================\n",
      " input_6 (InputLayer)        [(None, 64, 1)]              0         []                            \n",
      "                                                                                                  \n",
      " input_7 (InputLayer)        [(None, 64, 1)]              0         []                            \n",
      "                                                                                                  \n",
      " conv1d_21 (Conv1D)          (None, 61, 32)               160       ['input_6[0][0]']             \n",
      "                                                                                                  \n",
      " conv1d_22 (Conv1D)          (None, 61, 32)               160       ['input_7[0][0]']             \n",
      "                                                                                                  \n",
      " max_pooling1d_15 (MaxPooli  (None, 30, 32)               0         ['conv1d_21[0][0]']           \n",
      " ng1D)                                                                                            \n",
      "                                                                                                  \n",
      " max_pooling1d_16 (MaxPooli  (None, 30, 32)               0         ['conv1d_22[0][0]']           \n",
      " ng1D)                                                                                            \n",
      "                                                                                                  \n",
      " flatten_7 (Flatten)         (None, 960)                  0         ['max_pooling1d_15[0][0]']    \n",
      "                                                                                                  \n",
      " flatten_8 (Flatten)         (None, 960)                  0         ['max_pooling1d_16[0][0]']    \n",
      "                                                                                                  \n",
      " concatenate_2 (Concatenate  (None, 1920)                 0         ['flatten_7[0][0]',           \n",
      " )                                                                   'flatten_8[0][0]']           \n",
      "                                                                                                  \n",
      " dense_13 (Dense)            (None, 1)                    1921      ['concatenate_2[0][0]']       \n",
      "                                                                                                  \n",
      "==================================================================================================\n",
      "Total params: 2241 (8.75 KB)\n",
      "Trainable params: 2241 (8.75 KB)\n",
      "Non-trainable params: 0 (0.00 Byte)\n",
      "__________________________________________________________________________________________________\n"
     ]
    }
   ],
   "source": [
    "model.summary()"
   ]
  },
  {
   "cell_type": "code",
   "execution_count": 63,
   "metadata": {},
   "outputs": [],
   "source": [
    "def CreateAModel(Name):\n",
    "    from tensorflow.keras.layers import Conv1D, MaxPooling1D, Flatten, Dense,BatchNormalization,Input\n",
    "    from tensorflow.keras.models import Sequential,Model\n",
    "\n",
    "    inp = Input(shape=[64,1])\n",
    "\n",
    "    x = Conv1D(filters=64,kernel_size=3,activation='relu', input_shape=(64, 1),padding='same')(inp)\n",
    "    x = BatchNormalization()(x)\n",
    "    x = MaxPooling1D(pool_size=2)(x) \n",
    "\n",
    "    x = Conv1D(filters=64,kernel_size=3,activation='relu',padding='same')(x)\n",
    "    x = BatchNormalization()(x)\n",
    "    x = MaxPooling1D(pool_size=2)(x)    \n",
    "\n",
    "    x = Flatten()(x)\n",
    "    # Agregar capas totalmente conectadas\n",
    "    x = Dense(units = 64, activation='relu')(x)\n",
    "    x = Dense(units = 29, activation='softmax')(x)  # 29 clases, activación softmax para clasificación multiclase\n",
    "    # Compilar el modelo\n",
    "    #x.compile(optimizer='adam', loss='categorical_crossentropy', metrics=['accuracy'])\n",
    "\n",
    "    return Model(inp,x,name=Name)"
   ]
  },
  {
   "cell_type": "code",
   "execution_count": 64,
   "metadata": {},
   "outputs": [],
   "source": [
    "Mprueba=CreateAModel('Una Falla')"
   ]
  },
  {
   "cell_type": "code",
   "execution_count": 98,
   "metadata": {},
   "outputs": [],
   "source": [
    "x = Mprueba.layers[1].output"
   ]
  },
  {
   "cell_type": "code",
   "execution_count": 99,
   "metadata": {},
   "outputs": [],
   "source": [
    "x =Dense(256)(x)\n",
    "predictions = Dense(15, activation = \"softmax\")(x)\n",
    "model = Model(inputs = Mprueba.input, outputs = predictions)"
   ]
  },
  {
   "cell_type": "code",
   "execution_count": 100,
   "metadata": {},
   "outputs": [
    {
     "name": "stdout",
     "output_type": "stream",
     "text": [
      "Model: \"model_16\"\n",
      "_________________________________________________________________\n",
      " Layer (type)                Output Shape              Param #   \n",
      "=================================================================\n",
      " input_18 (InputLayer)       [(None, 64, 1)]           0         \n",
      "                                                                 \n",
      " conv1d_41 (Conv1D)          (None, 64, 64)            256       \n",
      "                                                                 \n",
      " dense_52 (Dense)            (None, 64, 256)           16640     \n",
      "                                                                 \n",
      " dense_53 (Dense)            (None, 64, 15)            3855      \n",
      "                                                                 \n",
      "=================================================================\n",
      "Total params: 20751 (81.06 KB)\n",
      "Trainable params: 20751 (81.06 KB)\n",
      "Non-trainable params: 0 (0.00 Byte)\n",
      "_________________________________________________________________\n"
     ]
    }
   ],
   "source": [
    "model.summary()"
   ]
  },
  {
   "cell_type": "code",
   "execution_count": null,
   "metadata": {},
   "outputs": [],
   "source": []
  }
 ],
 "metadata": {
  "kernelspec": {
   "display_name": "Python 3",
   "language": "python",
   "name": "python3"
  },
  "language_info": {
   "codemirror_mode": {
    "name": "ipython",
    "version": 3
   },
   "file_extension": ".py",
   "mimetype": "text/x-python",
   "name": "python",
   "nbconvert_exporter": "python",
   "pygments_lexer": "ipython3",
   "version": "3.11.3"
  },
  "orig_nbformat": 4
 },
 "nbformat": 4,
 "nbformat_minor": 2
}
