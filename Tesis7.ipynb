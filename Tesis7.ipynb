{
 "cells": [
  {
   "cell_type": "code",
   "execution_count": 98,
   "metadata": {},
   "outputs": [],
   "source": [
    "import numpy as np\n",
    "from collections import Counter\n",
    "from PQmodel import PQ,build_data\n",
    "from seaborn import heatmap\n",
    "import numpy as np\n",
    "import matplotlib.pyplot as plt\n"
   ]
  },
  {
   "cell_type": "code",
   "execution_count": 99,
   "metadata": {},
   "outputs": [],
   "source": [
    "import tensorflow as tf\n",
    "from tensorflow.keras.layers import Conv1D, MaxPooling1D, Flatten, Dense\n",
    "from tensorflow.keras.models import Sequential"
   ]
  },
  {
   "cell_type": "code",
   "execution_count": null,
   "metadata": {},
   "outputs": [],
   "source": []
  },
  {
   "cell_type": "code",
   "execution_count": 114,
   "metadata": {},
   "outputs": [
    {
     "name": "stdout",
     "output_type": "stream",
     "text": [
      "Model: \"sequential_6\"\n",
      "_________________________________________________________________\n",
      " Layer (type)                Output Shape              Param #   \n",
      "=================================================================\n",
      " conv1d_28 (Conv1D)          (None, 64, 256)           4352      \n",
      "                                                                 \n",
      " max_pooling1d_28 (MaxPoolin  (None, 16, 256)          0         \n",
      " g1D)                                                            \n",
      "                                                                 \n",
      " conv1d_29 (Conv1D)          (None, 16, 128)           295040    \n",
      "                                                                 \n",
      " max_pooling1d_29 (MaxPoolin  (None, 8, 128)           0         \n",
      " g1D)                                                            \n",
      "                                                                 \n",
      " conv1d_30 (Conv1D)          (None, 8, 64)             24640     \n",
      "                                                                 \n",
      " max_pooling1d_30 (MaxPoolin  (None, 4, 64)            0         \n",
      " g1D)                                                            \n",
      "                                                                 \n",
      " conv1d_31 (Conv1D)          (None, 4, 32)             6176      \n",
      "                                                                 \n",
      " max_pooling1d_31 (MaxPoolin  (None, 2, 32)            0         \n",
      " g1D)                                                            \n",
      "                                                                 \n",
      " conv1d_32 (Conv1D)          (None, 2, 16)             1552      \n",
      "                                                                 \n",
      " max_pooling1d_32 (MaxPoolin  (None, 1, 16)            0         \n",
      " g1D)                                                            \n",
      "                                                                 \n",
      " flatten_6 (Flatten)         (None, 16)                0         \n",
      "                                                                 \n",
      " dense_12 (Dense)            (None, 256)               4352      \n",
      "                                                                 \n",
      " dense_13 (Dense)            (None, 29)                7453      \n",
      "                                                                 \n",
      "=================================================================\n",
      "Total params: 343,565\n",
      "Trainable params: 343,565\n",
      "Non-trainable params: 0\n",
      "_________________________________________________________________\n"
     ]
    }
   ],
   "source": [
    "# Crear un modelo secuencial\n",
    "model = Sequential()\n",
    "\n",
    "# Agregar una capa de convolución 1D\n",
    "model.add(Conv1D(filters = 256, kernel_size=16, activation='relu', input_shape=(64, 1),padding='same'))\n",
    "\n",
    "# Agregar una capa de pooling 1D\n",
    "model.add(MaxPooling1D(pool_size=4))\n",
    "\n",
    "# Agregar otra capa de convolución 1D y pooling\n",
    "model.add(Conv1D(filters = 128, kernel_size=9, activation='relu',padding='same'))\n",
    "model.add(MaxPooling1D(pool_size=2))\n",
    "\n",
    "# Agregar otra capa de convolución 1D y pooling\n",
    "model.add(Conv1D(filters = 64, kernel_size=3, activation='relu',padding='same'))\n",
    "model.add(MaxPooling1D(pool_size=2))\n",
    "\n",
    "# Agregar otra capa de convolución 1D y pooling\n",
    "model.add(Conv1D(filters = 32, kernel_size=3, activation='relu',padding='same'))\n",
    "model.add(MaxPooling1D(pool_size=2))\n",
    "\n",
    "model.add(Conv1D(filters = 16, kernel_size=3, activation='relu',padding='same'))\n",
    "model.add(MaxPooling1D(pool_size=2))\n",
    "\n",
    "# Aplanar la salida\n",
    "model.add(Flatten())\n",
    "\n",
    "# Agregar capas totalmente conectadas\n",
    "model.add(Dense(units = 256, activation='relu'))\n",
    "model.add(Dense(units = 29, activation='softmax'))  # 29 clases, activación softmax para clasificación multiclase\n",
    "\n",
    "# Compilar el modelo\n",
    "model.compile(optimizer='adam', loss='categorical_crossentropy', metrics=['accuracy'])\n",
    "\n",
    "# Resumen del modelo\n",
    "model.summary()"
   ]
  },
  {
   "cell_type": "code",
   "execution_count": 105,
   "metadata": {},
   "outputs": [],
   "source": [
    "Prueba = PQ(Cicles=1,PeriodoDisturbio=1,InicioDisturbio=0,FS=3841)"
   ]
  },
  {
   "cell_type": "code",
   "execution_count": 106,
   "metadata": {},
   "outputs": [
    {
     "data": {
      "text/plain": [
       "(10000, 29, 64)"
      ]
     },
     "execution_count": 106,
     "metadata": {},
     "output_type": "execute_result"
    }
   ],
   "source": [
    "datos = Prueba.PQaleatorio(10000)\n",
    "datos.shape"
   ]
  },
  {
   "cell_type": "code",
   "execution_count": 107,
   "metadata": {},
   "outputs": [
    {
     "data": {
      "image/png": "[encoded data removed]",
      "text/plain": [
       "<Figure size 640x480 with 1 Axes>"
      ]
     },
     "metadata": {},
     "output_type": "display_data"
    }
   ],
   "source": [
    "plt.plot(datos[0,7])\n",
    "plt.show()"
   ]
  },
  {
   "cell_type": "code",
   "execution_count": 109,
   "metadata": {},
   "outputs": [
    {
     "data": {
      "text/plain": [
       "(10000, 29, 64)"
      ]
     },
     "execution_count": 109,
     "metadata": {},
     "output_type": "execute_result"
    }
   ],
   "source": [
    "datos.shape"
   ]
  },
  {
   "cell_type": "code",
   "execution_count": 111,
   "metadata": {},
   "outputs": [],
   "source": [
    "dd,target=build_data(datos,cs=64)"
   ]
  },
  {
   "cell_type": "code",
   "execution_count": 112,
   "metadata": {},
   "outputs": [
    {
     "data": {
      "text/plain": [
       "(290000, 64)"
      ]
     },
     "execution_count": 112,
     "metadata": {},
     "output_type": "execute_result"
    }
   ],
   "source": [
    "target.shape\n",
    "dd.shape"
   ]
  },
  {
   "cell_type": "code",
   "execution_count": 115,
   "metadata": {},
   "outputs": [
    {
     "name": "stdout",
     "output_type": "stream",
     "text": [
      "Epoch 1/100\n",
      "2900/2900 [==============================] - 49s 17ms/step - loss: 1.1149 - accuracy: 0.5101\n",
      "Epoch 2/100\n",
      "2900/2900 [==============================] - 47s 16ms/step - loss: 0.7647 - accuracy: 0.6083\n",
      "Epoch 3/100\n",
      "2900/2900 [==============================] - 47s 16ms/step - loss: 0.6798 - accuracy: 0.6394\n",
      "Epoch 4/100\n",
      "2900/2900 [==============================] - 47s 16ms/step - loss: 0.6266 - accuracy: 0.6655\n",
      "Epoch 5/100\n",
      "2900/2900 [==============================] - 47s 16ms/step - loss: 0.5890 - accuracy: 0.6900\n",
      "Epoch 6/100\n",
      "2900/2900 [==============================] - 47s 16ms/step - loss: 0.5422 - accuracy: 0.7217\n",
      "Epoch 7/100\n",
      "2900/2900 [==============================] - 47s 16ms/step - loss: 0.4958 - accuracy: 0.7495\n",
      "Epoch 8/100\n",
      "2900/2900 [==============================] - 47s 16ms/step - loss: 0.4685 - accuracy: 0.7644\n",
      "Epoch 9/100\n",
      "2900/2900 [==============================] - 47s 16ms/step - loss: 0.4434 - accuracy: 0.7787\n",
      "Epoch 10/100\n",
      "2900/2900 [==============================] - 48s 16ms/step - loss: 0.4282 - accuracy: 0.7886\n",
      "Epoch 11/100\n",
      "2900/2900 [==============================] - 48s 16ms/step - loss: 0.4098 - accuracy: 0.7974\n",
      "Epoch 12/100\n",
      "2900/2900 [==============================] - 47s 16ms/step - loss: 0.4021 - accuracy: 0.8006\n",
      "Epoch 13/100\n",
      "2900/2900 [==============================] - 48s 16ms/step - loss: 0.3893 - accuracy: 0.8069\n",
      "Epoch 14/100\n",
      "2900/2900 [==============================] - 48s 17ms/step - loss: 0.3873 - accuracy: 0.8090\n",
      "Epoch 15/100\n",
      "2900/2900 [==============================] - 48s 17ms/step - loss: 0.3765 - accuracy: 0.8138\n",
      "Epoch 16/100\n",
      "2900/2900 [==============================] - 48s 17ms/step - loss: 0.3727 - accuracy: 0.8156\n",
      "Epoch 17/100\n",
      "2900/2900 [==============================] - 51s 17ms/step - loss: 0.3665 - accuracy: 0.8182\n",
      "Epoch 18/100\n",
      "2900/2900 [==============================] - 47s 16ms/step - loss: 0.3660 - accuracy: 0.8187\n",
      "Epoch 19/100\n",
      "2900/2900 [==============================] - 47s 16ms/step - loss: 0.3565 - accuracy: 0.8229\n",
      "Epoch 20/100\n",
      "2900/2900 [==============================] - 47s 16ms/step - loss: 0.3528 - accuracy: 0.8243\n",
      "Epoch 21/100\n",
      "2900/2900 [==============================] - 47s 16ms/step - loss: 0.3492 - accuracy: 0.8258\n",
      "Epoch 22/100\n",
      "2900/2900 [==============================] - 48s 16ms/step - loss: 0.3509 - accuracy: 0.8268\n",
      "Epoch 23/100\n",
      "2900/2900 [==============================] - 48s 17ms/step - loss: 0.3423 - accuracy: 0.8296\n",
      "Epoch 24/100\n",
      "2900/2900 [==============================] - 46s 16ms/step - loss: 0.3427 - accuracy: 0.8295\n",
      "Epoch 25/100\n",
      "2900/2900 [==============================] - 45s 16ms/step - loss: 0.3390 - accuracy: 0.8315\n",
      "Epoch 26/100\n",
      "2900/2900 [==============================] - 45s 16ms/step - loss: 0.3388 - accuracy: 0.8306\n",
      "Epoch 27/100\n",
      "2900/2900 [==============================] - 45s 15ms/step - loss: 0.3320 - accuracy: 0.8336\n",
      "Epoch 28/100\n",
      "2900/2900 [==============================] - 45s 15ms/step - loss: 0.3305 - accuracy: 0.8349\n",
      "Epoch 29/100\n",
      "2900/2900 [==============================] - 45s 15ms/step - loss: 0.3307 - accuracy: 0.8348\n",
      "Epoch 30/100\n",
      "2900/2900 [==============================] - 45s 15ms/step - loss: 0.3249 - accuracy: 0.8369\n",
      "Epoch 31/100\n",
      "2900/2900 [==============================] - 45s 16ms/step - loss: 0.3332 - accuracy: 0.8349\n",
      "Epoch 32/100\n",
      "2900/2900 [==============================] - 45s 16ms/step - loss: 0.3248 - accuracy: 0.8369\n",
      "Epoch 33/100\n",
      "2900/2900 [==============================] - 45s 16ms/step - loss: 0.3236 - accuracy: 0.8387\n",
      "Epoch 34/100\n",
      "2900/2900 [==============================] - 45s 16ms/step - loss: 0.3224 - accuracy: 0.8374\n",
      "Epoch 35/100\n",
      "2900/2900 [==============================] - 45s 16ms/step - loss: 0.3253 - accuracy: 0.8376\n",
      "Epoch 36/100\n",
      "2900/2900 [==============================] - 45s 16ms/step - loss: 0.3213 - accuracy: 0.8389\n",
      "Epoch 37/100\n",
      "2900/2900 [==============================] - 45s 16ms/step - loss: 0.3209 - accuracy: 0.8385\n",
      "Epoch 38/100\n",
      "2900/2900 [==============================] - 46s 16ms/step - loss: 0.3189 - accuracy: 0.8389\n",
      "Epoch 39/100\n",
      "2900/2900 [==============================] - 45s 16ms/step - loss: 0.3193 - accuracy: 0.8400\n",
      "Epoch 40/100\n",
      "2900/2900 [==============================] - 45s 16ms/step - loss: 0.3163 - accuracy: 0.8410\n",
      "Epoch 41/100\n",
      "2900/2900 [==============================] - 45s 16ms/step - loss: 0.3171 - accuracy: 0.8410\n",
      "Epoch 42/100\n",
      "2900/2900 [==============================] - 47s 16ms/step - loss: 0.3125 - accuracy: 0.8416\n",
      "Epoch 43/100\n",
      "2900/2900 [==============================] - 48s 16ms/step - loss: 0.3149 - accuracy: 0.8418\n",
      "Epoch 44/100\n",
      "2900/2900 [==============================] - 47s 16ms/step - loss: 0.3135 - accuracy: 0.8431\n",
      "Epoch 45/100\n",
      "2900/2900 [==============================] - 47s 16ms/step - loss: 0.3106 - accuracy: 0.8435\n",
      "Epoch 46/100\n",
      "2900/2900 [==============================] - 47s 16ms/step - loss: 0.3119 - accuracy: 0.8424\n",
      "Epoch 47/100\n",
      "2900/2900 [==============================] - 48s 16ms/step - loss: 0.3120 - accuracy: 0.8428\n",
      "Epoch 48/100\n",
      "2900/2900 [==============================] - 48s 16ms/step - loss: 0.3089 - accuracy: 0.8447\n",
      "Epoch 49/100\n",
      "2900/2900 [==============================] - 47s 16ms/step - loss: 0.3041 - accuracy: 0.8460\n",
      "Epoch 50/100\n",
      "2900/2900 [==============================] - 47s 16ms/step - loss: 0.3065 - accuracy: 0.8450\n",
      "Epoch 51/100\n",
      "2900/2900 [==============================] - 47s 16ms/step - loss: 0.3101 - accuracy: 0.8433\n",
      "Epoch 52/100\n",
      "2900/2900 [==============================] - 47s 16ms/step - loss: 0.3043 - accuracy: 0.8455\n",
      "Epoch 53/100\n",
      "2900/2900 [==============================] - 47s 16ms/step - loss: 0.3098 - accuracy: 0.8444\n",
      "Epoch 54/100\n",
      "2900/2900 [==============================] - 47s 16ms/step - loss: 0.3032 - accuracy: 0.8470\n",
      "Epoch 55/100\n",
      "2900/2900 [==============================] - 47s 16ms/step - loss: 0.3030 - accuracy: 0.8464\n",
      "Epoch 56/100\n",
      "2900/2900 [==============================] - 47s 16ms/step - loss: 0.3021 - accuracy: 0.8469\n",
      "Epoch 57/100\n",
      "2900/2900 [==============================] - 45s 16ms/step - loss: 0.3017 - accuracy: 0.8476\n",
      "Epoch 58/100\n",
      "2900/2900 [==============================] - 44s 15ms/step - loss: 0.3008 - accuracy: 0.8480\n",
      "Epoch 59/100\n",
      "2900/2900 [==============================] - 44s 15ms/step - loss: 0.3003 - accuracy: 0.8481\n",
      "Epoch 60/100\n",
      "2900/2900 [==============================] - 44s 15ms/step - loss: 0.3047 - accuracy: 0.8462\n",
      "Epoch 61/100\n",
      "2900/2900 [==============================] - 44s 15ms/step - loss: 0.3008 - accuracy: 0.8482\n",
      "Epoch 62/100\n",
      "2900/2900 [==============================] - 44s 15ms/step - loss: 0.2972 - accuracy: 0.8499\n",
      "Epoch 63/100\n",
      "2900/2900 [==============================] - 45s 16ms/step - loss: 0.2960 - accuracy: 0.8498\n",
      "Epoch 64/100\n",
      "2900/2900 [==============================] - 44s 15ms/step - loss: 0.3028 - accuracy: 0.8476\n",
      "Epoch 65/100\n",
      "2900/2900 [==============================] - 45s 15ms/step - loss: 0.2915 - accuracy: 0.8525\n",
      "Epoch 66/100\n",
      "2900/2900 [==============================] - 45s 15ms/step - loss: 0.2992 - accuracy: 0.8499\n",
      "Epoch 67/100\n",
      "2900/2900 [==============================] - 45s 15ms/step - loss: 0.2936 - accuracy: 0.8509\n",
      "Epoch 68/100\n",
      "2900/2900 [==============================] - 45s 15ms/step - loss: 0.2981 - accuracy: 0.8503\n",
      "Epoch 69/100\n",
      "2900/2900 [==============================] - 45s 16ms/step - loss: 0.2870 - accuracy: 0.8524\n",
      "Epoch 70/100\n",
      "2900/2900 [==============================] - 46s 16ms/step - loss: 0.3028 - accuracy: 0.8496\n",
      "Epoch 71/100\n",
      "2900/2900 [==============================] - 45s 16ms/step - loss: 0.2915 - accuracy: 0.8510\n",
      "Epoch 72/100\n",
      "2900/2900 [==============================] - 45s 16ms/step - loss: 0.2886 - accuracy: 0.8515\n",
      "Epoch 73/100\n",
      "2900/2900 [==============================] - 45s 16ms/step - loss: 0.2946 - accuracy: 0.8505\n",
      "Epoch 74/100\n",
      "2900/2900 [==============================] - 45s 16ms/step - loss: 0.2932 - accuracy: 0.8502\n",
      "Epoch 75/100\n",
      "2900/2900 [==============================] - 45s 15ms/step - loss: 0.2903 - accuracy: 0.8527\n",
      "Epoch 76/100\n",
      "2900/2900 [==============================] - 45s 15ms/step - loss: 0.2944 - accuracy: 0.8519\n",
      "Epoch 77/100\n",
      "2900/2900 [==============================] - 44s 15ms/step - loss: 0.2994 - accuracy: 0.8505\n",
      "Epoch 78/100\n",
      "2900/2900 [==============================] - 44s 15ms/step - loss: 0.2892 - accuracy: 0.8531\n",
      "Epoch 79/100\n",
      "2900/2900 [==============================] - 44s 15ms/step - loss: 0.2880 - accuracy: 0.8533\n",
      "Epoch 80/100\n",
      "2900/2900 [==============================] - 45s 15ms/step - loss: 0.2841 - accuracy: 0.8546\n",
      "Epoch 81/100\n",
      "2900/2900 [==============================] - 45s 15ms/step - loss: 0.2939 - accuracy: 0.8514\n",
      "Epoch 82/100\n",
      "2900/2900 [==============================] - 46s 16ms/step - loss: 0.2920 - accuracy: 0.8521\n",
      "Epoch 83/100\n",
      "2900/2900 [==============================] - 44s 15ms/step - loss: 0.2905 - accuracy: 0.8526\n",
      "Epoch 84/100\n",
      "2900/2900 [==============================] - 44s 15ms/step - loss: 0.2892 - accuracy: 0.8544\n",
      "Epoch 85/100\n",
      "2900/2900 [==============================] - 44s 15ms/step - loss: 0.2917 - accuracy: 0.8535\n",
      "Epoch 86/100\n",
      "2900/2900 [==============================] - 45s 15ms/step - loss: 0.2891 - accuracy: 0.8540\n",
      "Epoch 87/100\n",
      "2900/2900 [==============================] - 45s 15ms/step - loss: 0.2808 - accuracy: 0.8560\n",
      "Epoch 88/100\n",
      "2900/2900 [==============================] - 45s 16ms/step - loss: 0.3025 - accuracy: 0.8509\n",
      "Epoch 89/100\n",
      "2900/2900 [==============================] - 45s 16ms/step - loss: 0.2834 - accuracy: 0.8562\n",
      "Epoch 90/100\n",
      "2900/2900 [==============================] - 45s 16ms/step - loss: 0.2867 - accuracy: 0.8543\n",
      "Epoch 91/100\n",
      "2900/2900 [==============================] - 45s 16ms/step - loss: 0.3061 - accuracy: 0.8504\n",
      "Epoch 92/100\n",
      "2900/2900 [==============================] - 45s 15ms/step - loss: 0.2778 - accuracy: 0.8578\n",
      "Epoch 93/100\n",
      "2900/2900 [==============================] - 45s 16ms/step - loss: 0.2901 - accuracy: 0.8535\n",
      "Epoch 94/100\n",
      "2900/2900 [==============================] - 45s 16ms/step - loss: 0.2816 - accuracy: 0.8567\n",
      "Epoch 95/100\n",
      "2900/2900 [==============================] - 48s 16ms/step - loss: 0.2863 - accuracy: 0.8555\n",
      "Epoch 96/100\n",
      "2900/2900 [==============================] - 49s 17ms/step - loss: 0.2771 - accuracy: 0.8576\n",
      "Epoch 97/100\n",
      "2900/2900 [==============================] - 48s 16ms/step - loss: 0.2818 - accuracy: 0.8566\n",
      "Epoch 98/100\n",
      "2900/2900 [==============================] - 46s 16ms/step - loss: 0.2920 - accuracy: 0.8538\n",
      "Epoch 99/100\n",
      "2900/2900 [==============================] - 45s 15ms/step - loss: 0.2774 - accuracy: 0.8587\n",
      "Epoch 100/100\n",
      "2900/2900 [==============================] - 46s 16ms/step - loss: 0.3138 - accuracy: 0.8485\n"
     ]
    }
   ],
   "source": [
    "Training = model.fit(dd,target,epochs=100,batch_size = 100)#,batch_size = 100"
   ]
  },
  {
   "cell_type": "code",
   "execution_count": 116,
   "metadata": {},
   "outputs": [],
   "source": [
    "model.save(\"modelo_cnn1C.h5\")"
   ]
  },
  {
   "cell_type": "code",
   "execution_count": 117,
   "metadata": {},
   "outputs": [],
   "source": [
    "datosp = Prueba.PQaleatorio(1)"
   ]
  },
  {
   "cell_type": "code",
   "execution_count": 119,
   "metadata": {},
   "outputs": [],
   "source": [
    "ddp,targetp=build_data(datosp,cs=64)"
   ]
  },
  {
   "cell_type": "code",
   "execution_count": 120,
   "metadata": {},
   "outputs": [
    {
     "name": "stdout",
     "output_type": "stream",
     "text": [
      "1/1 [==============================] - 0s 106ms/step\n"
     ]
    }
   ],
   "source": [
    "resultado=model.predict(ddp)"
   ]
  },
  {
   "cell_type": "code",
   "execution_count": 121,
   "metadata": {},
   "outputs": [
    {
     "name": "stdout",
     "output_type": "stream",
     "text": [
      "20\n"
     ]
    }
   ],
   "source": [
    "senal=20\n",
    "print(list(resultado[senal]).index(np.max(resultado[senal])))"
   ]
  },
  {
   "cell_type": "code",
   "execution_count": null,
   "metadata": {},
   "outputs": [],
   "source": []
  },
  {
   "cell_type": "code",
   "execution_count": null,
   "metadata": {},
   "outputs": [],
   "source": []
  }
 ],
 "metadata": {
  "kernelspec": {
   "display_name": "base",
   "language": "python",
   "name": "python3"
  },
  "language_info": {
   "codemirror_mode": {
    "name": "ipython",
    "version": 3
   },
   "file_extension": ".py",
   "mimetype": "text/x-python",
   "name": "python",
   "nbconvert_exporter": "python",
   "pygments_lexer": "ipython3",
   "version": "3.11.0"
  },
  "orig_nbformat": 4
 },
 "nbformat": 4,
 "nbformat_minor": 2
}
