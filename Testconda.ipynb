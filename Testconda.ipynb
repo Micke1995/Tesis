{
 "cells": [
  {
   "cell_type": "code",
   "execution_count": 1,
   "metadata": {},
   "outputs": [],
   "source": [
    "import tensorflow as tf\n",
    "from tensorflow.keras.layers import Conv1D, MaxPooling1D, Flatten, Dense\n",
    "from tensorflow.keras.models import Sequential\n",
    "\n",
    "import numpy as np\n",
    "from PQmodel import PQ,build_data\n",
    "\n",
    "from random import uniform"
   ]
  },
  {
   "cell_type": "code",
   "execution_count": 3,
   "metadata": {},
   "outputs": [
    {
     "data": {
      "text/plain": [
       "[PhysicalDevice(name='/physical_device:GPU:0', device_type='GPU')]"
      ]
     },
     "execution_count": 3,
     "metadata": {},
     "output_type": "execute_result"
    }
   ],
   "source": [
    "tf.config.list_physical_devices('GPU')"
   ]
  },
  {
   "cell_type": "code",
   "execution_count": 23,
   "metadata": {},
   "outputs": [
    {
     "name": "stdout",
     "output_type": "stream",
     "text": [
      "Model: \"sequential_4\"\n",
      "_________________________________________________________________\n",
      " Layer (type)                Output Shape              Param #   \n",
      "=================================================================\n",
      " conv1d_19 (Conv1D)          (None, 64, 256)           4352      \n",
      "                                                                 \n",
      " max_pooling1d_18 (MaxPoolin  (None, 32, 256)          0         \n",
      " g1D)                                                            \n",
      "                                                                 \n",
      " conv1d_20 (Conv1D)          (None, 32, 128)           295040    \n",
      "                                                                 \n",
      " max_pooling1d_19 (MaxPoolin  (None, 16, 128)          0         \n",
      " g1D)                                                            \n",
      "                                                                 \n",
      " conv1d_21 (Conv1D)          (None, 16, 64)            24640     \n",
      "                                                                 \n",
      " max_pooling1d_20 (MaxPoolin  (None, 8, 64)            0         \n",
      " g1D)                                                            \n",
      "                                                                 \n",
      " conv1d_22 (Conv1D)          (None, 8, 32)             6176      \n",
      "                                                                 \n",
      " max_pooling1d_21 (MaxPoolin  (None, 4, 32)            0         \n",
      " g1D)                                                            \n",
      "                                                                 \n",
      " conv1d_23 (Conv1D)          (None, 4, 16)             1552      \n",
      "                                                                 \n",
      " max_pooling1d_22 (MaxPoolin  (None, 2, 16)            0         \n",
      " g1D)                                                            \n",
      "                                                                 \n",
      " flatten_3 (Flatten)         (None, 32)                0         \n",
      "                                                                 \n",
      " dense_6 (Dense)             (None, 256)               8448      \n",
      "                                                                 \n",
      " dense_7 (Dense)             (None, 29)                7453      \n",
      "                                                                 \n",
      "=================================================================\n",
      "Total params: 347,661\n",
      "Trainable params: 347,661\n",
      "Non-trainable params: 0\n",
      "_________________________________________________________________\n"
     ]
    }
   ],
   "source": [
    "# Crear un modelo secuencial\n",
    "model = Sequential()\n",
    "\n",
    "# Agregar una capa de convolución 1D\n",
    "model.add(Conv1D(filters = 256, kernel_size=16, activation='relu', input_shape=(64, 1),padding='same'))\n",
    "# Agregar una capa de pooling 1D\n",
    "model.add(MaxPooling1D(pool_size=2))\n",
    "\n",
    "# Agregar otra capa de convolución 1D y pooling\n",
    "model.add(Conv1D(filters = 128, kernel_size=9, activation='relu',padding='same'))\n",
    "model.add(MaxPooling1D(pool_size=2))\n",
    "\n",
    "# Agregar otra capa de convolución 1D y pooling\n",
    "model.add(Conv1D(filters = 64, kernel_size=3, activation='relu',padding='same'))\n",
    "model.add(MaxPooling1D(pool_size=2))\n",
    "\n",
    "# Agregar otra capa de convolución 1D y pooling\n",
    "model.add(Conv1D(filters = 32, kernel_size=3, activation='relu',padding='same'))\n",
    "model.add(MaxPooling1D(pool_size=2))\n",
    "\n",
    "model.add(Conv1D(filters = 16, kernel_size=3, activation='relu',padding='same'))\n",
    "model.add(MaxPooling1D(pool_size=2))\n",
    "\n",
    "# Aplanar la salida\n",
    "model.add(Flatten())\n",
    "\n",
    "# Agregar capas totalmente conectadas\n",
    "model.add(Dense(units = 256, activation='relu'))\n",
    "model.add(Dense(units = 29, activation='softmax'))  # 29 clases, activación softmax para clasificación multiclase\n",
    "\n",
    "# Compilar el modelo\n",
    "model.compile(optimizer='adam', loss='categorical_crossentropy', metrics=['accuracy'])\n",
    "\n",
    "# Resumen del modelo\n",
    "model.summary()"
   ]
  },
  {
   "cell_type": "code",
   "execution_count": 24,
   "metadata": {},
   "outputs": [
    {
     "data": {
      "text/plain": [
       "<tensorflow.python.eager.context._EagerDeviceContext at 0x20360b3ed40>"
      ]
     },
     "execution_count": 24,
     "metadata": {},
     "output_type": "execute_result"
    }
   ],
   "source": [
    "tf.device('cpu')#tf.device('/GPU:0')"
   ]
  },
  {
   "cell_type": "code",
   "execution_count": 25,
   "metadata": {},
   "outputs": [],
   "source": [
    "Prueba = PQ(Cicles=1,PeriodoDisturbio=1,InicioDisturbio=0,FS=3841)\n",
    "datos = Prueba.PQaleatorio(10000)"
   ]
  },
  {
   "cell_type": "code",
   "execution_count": null,
   "metadata": {},
   "outputs": [],
   "source": []
  },
  {
   "cell_type": "code",
   "execution_count": 26,
   "metadata": {},
   "outputs": [],
   "source": [
    "dd,target=build_data(datos,cs=64)"
   ]
  },
  {
   "cell_type": "code",
   "execution_count": 27,
   "metadata": {},
   "outputs": [
    {
     "data": {
      "text/plain": [
       "(290000, 64)"
      ]
     },
     "execution_count": 27,
     "metadata": {},
     "output_type": "execute_result"
    }
   ],
   "source": [
    "dd.shape"
   ]
  },
  {
   "cell_type": "code",
   "execution_count": null,
   "metadata": {},
   "outputs": [],
   "source": []
  },
  {
   "cell_type": "code",
   "execution_count": 28,
   "metadata": {},
   "outputs": [
    {
     "name": "stdout",
     "output_type": "stream",
     "text": [
      "Epoch 1/100\n",
      "2900/2900 [==============================] - 17s 6ms/step - loss: 1.0433 - accuracy: 0.5374\n",
      "Epoch 2/100\n",
      "2900/2900 [==============================] - 16s 5ms/step - loss: 0.7024 - accuracy: 0.6354\n",
      "Epoch 3/100\n",
      "2900/2900 [==============================] - 16s 5ms/step - loss: 0.6458 - accuracy: 0.6561\n",
      "Epoch 4/100\n",
      "2900/2900 [==============================] - 16s 5ms/step - loss: 0.6131 - accuracy: 0.6703\n",
      "Epoch 5/100\n",
      "2900/2900 [==============================] - 16s 5ms/step - loss: 0.5903 - accuracy: 0.6859\n",
      "Epoch 6/100\n",
      "2900/2900 [==============================] - 16s 5ms/step - loss: 0.5656 - accuracy: 0.7002\n",
      "Epoch 7/100\n",
      "2900/2900 [==============================] - 16s 5ms/step - loss: 0.5459 - accuracy: 0.7138\n",
      "Epoch 8/100\n",
      "2900/2900 [==============================] - 16s 5ms/step - loss: 0.5186 - accuracy: 0.7323\n",
      "Epoch 9/100\n",
      "2900/2900 [==============================] - 16s 5ms/step - loss: 0.5004 - accuracy: 0.7444\n",
      "Epoch 10/100\n",
      "2900/2900 [==============================] - 16s 5ms/step - loss: 0.4776 - accuracy: 0.7583\n",
      "Epoch 11/100\n",
      "2900/2900 [==============================] - 16s 5ms/step - loss: 0.4527 - accuracy: 0.7727\n",
      "Epoch 12/100\n",
      "2900/2900 [==============================] - 16s 5ms/step - loss: 0.4363 - accuracy: 0.7810\n",
      "Epoch 13/100\n",
      "2900/2900 [==============================] - 16s 5ms/step - loss: 0.4273 - accuracy: 0.7878\n",
      "Epoch 14/100\n",
      "2900/2900 [==============================] - 16s 5ms/step - loss: 0.4109 - accuracy: 0.7960\n",
      "Epoch 15/100\n",
      "2900/2900 [==============================] - 16s 5ms/step - loss: 0.4054 - accuracy: 0.7999\n",
      "Epoch 16/100\n",
      "2900/2900 [==============================] - 16s 6ms/step - loss: 0.3944 - accuracy: 0.8057\n",
      "Epoch 17/100\n",
      "2900/2900 [==============================] - 16s 5ms/step - loss: 0.3828 - accuracy: 0.8104\n",
      "Epoch 18/100\n",
      "2900/2900 [==============================] - 16s 5ms/step - loss: 0.3799 - accuracy: 0.8134\n",
      "Epoch 19/100\n",
      "2900/2900 [==============================] - 16s 5ms/step - loss: 0.3748 - accuracy: 0.8155\n",
      "Epoch 20/100\n",
      "2900/2900 [==============================] - 16s 5ms/step - loss: 0.3718 - accuracy: 0.8177\n",
      "Epoch 21/100\n",
      "2900/2900 [==============================] - 16s 5ms/step - loss: 0.3657 - accuracy: 0.8203\n",
      "Epoch 22/100\n",
      "2900/2900 [==============================] - 16s 5ms/step - loss: 0.3622 - accuracy: 0.8214\n",
      "Epoch 23/100\n",
      "2900/2900 [==============================] - 17s 6ms/step - loss: 0.3570 - accuracy: 0.8240\n",
      "Epoch 24/100\n",
      "2900/2900 [==============================] - 17s 6ms/step - loss: 0.3541 - accuracy: 0.8246\n",
      "Epoch 25/100\n",
      "2900/2900 [==============================] - 17s 6ms/step - loss: 0.3559 - accuracy: 0.8253\n",
      "Epoch 26/100\n",
      "2900/2900 [==============================] - 17s 6ms/step - loss: 0.3506 - accuracy: 0.8275\n",
      "Epoch 27/100\n",
      "2900/2900 [==============================] - 17s 6ms/step - loss: 0.3477 - accuracy: 0.8281\n",
      "Epoch 28/100\n",
      "2900/2900 [==============================] - 17s 6ms/step - loss: 0.3467 - accuracy: 0.8299\n",
      "Epoch 29/100\n",
      "2900/2900 [==============================] - 17s 6ms/step - loss: 0.3412 - accuracy: 0.8321\n",
      "Epoch 30/100\n",
      "2900/2900 [==============================] - 17s 6ms/step - loss: 0.3448 - accuracy: 0.8309\n",
      "Epoch 31/100\n",
      "2900/2900 [==============================] - 17s 6ms/step - loss: 0.3357 - accuracy: 0.8340\n",
      "Epoch 32/100\n",
      "2900/2900 [==============================] - 17s 6ms/step - loss: 0.3375 - accuracy: 0.8334\n",
      "Epoch 33/100\n",
      "2900/2900 [==============================] - 17s 6ms/step - loss: 0.3367 - accuracy: 0.8338\n",
      "Epoch 34/100\n",
      "2900/2900 [==============================] - 17s 6ms/step - loss: 0.3344 - accuracy: 0.8340\n",
      "Epoch 35/100\n",
      "2900/2900 [==============================] - 16s 6ms/step - loss: 0.3378 - accuracy: 0.8321\n",
      "Epoch 36/100\n",
      "2900/2900 [==============================] - 17s 6ms/step - loss: 0.3282 - accuracy: 0.8371\n",
      "Epoch 37/100\n",
      "2900/2900 [==============================] - 17s 6ms/step - loss: 0.3324 - accuracy: 0.8353\n",
      "Epoch 38/100\n",
      "2900/2900 [==============================] - 17s 6ms/step - loss: 0.3291 - accuracy: 0.8367\n",
      "Epoch 39/100\n",
      "2900/2900 [==============================] - 17s 6ms/step - loss: 0.3233 - accuracy: 0.8378\n",
      "Epoch 40/100\n",
      "2900/2900 [==============================] - 17s 6ms/step - loss: 0.3283 - accuracy: 0.8376\n",
      "Epoch 41/100\n",
      "2900/2900 [==============================] - 16s 6ms/step - loss: 0.3204 - accuracy: 0.8399\n",
      "Epoch 42/100\n",
      "2900/2900 [==============================] - 16s 6ms/step - loss: 0.3197 - accuracy: 0.8413\n",
      "Epoch 43/100\n",
      "2900/2900 [==============================] - 16s 6ms/step - loss: 0.3192 - accuracy: 0.8405\n",
      "Epoch 44/100\n",
      "2900/2900 [==============================] - 17s 6ms/step - loss: 0.3280 - accuracy: 0.8372\n",
      "Epoch 45/100\n",
      "2900/2900 [==============================] - 16s 6ms/step - loss: 0.3132 - accuracy: 0.8437\n",
      "Epoch 46/100\n",
      "2900/2900 [==============================] - 16s 6ms/step - loss: 0.3186 - accuracy: 0.8416\n",
      "Epoch 47/100\n",
      "2900/2900 [==============================] - 16s 6ms/step - loss: 0.3175 - accuracy: 0.8421\n",
      "Epoch 48/100\n",
      "2900/2900 [==============================] - 16s 6ms/step - loss: 0.3165 - accuracy: 0.8429\n",
      "Epoch 49/100\n",
      "2900/2900 [==============================] - 16s 6ms/step - loss: 0.3181 - accuracy: 0.8424\n",
      "Epoch 50/100\n",
      "2900/2900 [==============================] - 16s 6ms/step - loss: 0.3148 - accuracy: 0.8441\n",
      "Epoch 51/100\n",
      "2900/2900 [==============================] - 16s 6ms/step - loss: 0.3179 - accuracy: 0.8420\n",
      "Epoch 52/100\n",
      "2900/2900 [==============================] - 16s 6ms/step - loss: 0.3124 - accuracy: 0.8437\n",
      "Epoch 53/100\n",
      "2900/2900 [==============================] - 16s 6ms/step - loss: 0.3158 - accuracy: 0.8436\n",
      "Epoch 54/100\n",
      "2900/2900 [==============================] - 16s 6ms/step - loss: 0.3093 - accuracy: 0.8455\n",
      "Epoch 55/100\n",
      "2900/2900 [==============================] - 16s 6ms/step - loss: 0.3099 - accuracy: 0.8452\n",
      "Epoch 56/100\n",
      "2900/2900 [==============================] - 16s 6ms/step - loss: 0.3110 - accuracy: 0.8450\n",
      "Epoch 57/100\n",
      "2900/2900 [==============================] - 16s 6ms/step - loss: 0.3083 - accuracy: 0.8460\n",
      "Epoch 58/100\n",
      "2900/2900 [==============================] - 17s 6ms/step - loss: 0.3040 - accuracy: 0.8475\n",
      "Epoch 59/100\n",
      "2900/2900 [==============================] - 17s 6ms/step - loss: 0.3050 - accuracy: 0.8473\n",
      "Epoch 60/100\n",
      "2900/2900 [==============================] - 16s 6ms/step - loss: 0.3073 - accuracy: 0.8467\n",
      "Epoch 61/100\n",
      "2900/2900 [==============================] - 16s 6ms/step - loss: 0.3069 - accuracy: 0.8465\n",
      "Epoch 62/100\n",
      "2900/2900 [==============================] - 16s 6ms/step - loss: 0.3039 - accuracy: 0.8478\n",
      "Epoch 63/100\n",
      "2900/2900 [==============================] - 17s 6ms/step - loss: 0.3001 - accuracy: 0.8493\n",
      "Epoch 64/100\n",
      "2900/2900 [==============================] - 16s 6ms/step - loss: 0.3041 - accuracy: 0.8477\n",
      "Epoch 65/100\n",
      "2900/2900 [==============================] - 16s 6ms/step - loss: 0.3055 - accuracy: 0.8467\n",
      "Epoch 66/100\n",
      "2900/2900 [==============================] - 16s 6ms/step - loss: 0.3062 - accuracy: 0.8463\n",
      "Epoch 67/100\n",
      "2900/2900 [==============================] - 17s 6ms/step - loss: 0.2970 - accuracy: 0.8500\n",
      "Epoch 68/100\n",
      "2900/2900 [==============================] - 16s 6ms/step - loss: 0.3004 - accuracy: 0.8490\n",
      "Epoch 69/100\n",
      "2900/2900 [==============================] - 16s 6ms/step - loss: 0.3026 - accuracy: 0.8486\n",
      "Epoch 70/100\n",
      "2900/2900 [==============================] - 17s 6ms/step - loss: 0.2986 - accuracy: 0.8500\n",
      "Epoch 71/100\n",
      "2900/2900 [==============================] - 16s 6ms/step - loss: 0.3021 - accuracy: 0.8496\n",
      "Epoch 72/100\n",
      "2900/2900 [==============================] - 16s 6ms/step - loss: 0.2973 - accuracy: 0.8503\n",
      "Epoch 73/100\n",
      "2900/2900 [==============================] - 17s 6ms/step - loss: 0.2964 - accuracy: 0.8508\n",
      "Epoch 74/100\n",
      "2900/2900 [==============================] - 17s 6ms/step - loss: 0.2962 - accuracy: 0.8502\n",
      "Epoch 75/100\n",
      "2900/2900 [==============================] - 16s 6ms/step - loss: 0.3011 - accuracy: 0.8498\n",
      "Epoch 76/100\n",
      "2900/2900 [==============================] - 16s 6ms/step - loss: 0.2964 - accuracy: 0.8507\n",
      "Epoch 77/100\n",
      "2900/2900 [==============================] - 16s 6ms/step - loss: 0.2965 - accuracy: 0.8508\n",
      "Epoch 78/100\n",
      "2900/2900 [==============================] - 16s 6ms/step - loss: 0.2970 - accuracy: 0.8510\n",
      "Epoch 79/100\n",
      "2900/2900 [==============================] - 17s 6ms/step - loss: 0.2981 - accuracy: 0.8514\n",
      "Epoch 80/100\n",
      "2900/2900 [==============================] - 16s 6ms/step - loss: 0.2894 - accuracy: 0.8529\n",
      "Epoch 81/100\n",
      "2900/2900 [==============================] - 16s 6ms/step - loss: 0.2985 - accuracy: 0.8520\n",
      "Epoch 82/100\n",
      "2900/2900 [==============================] - 16s 6ms/step - loss: 0.2921 - accuracy: 0.8530\n",
      "Epoch 83/100\n",
      "2900/2900 [==============================] - 16s 6ms/step - loss: 0.2892 - accuracy: 0.8533\n",
      "Epoch 84/100\n",
      "2900/2900 [==============================] - 16s 6ms/step - loss: 0.2923 - accuracy: 0.8533\n",
      "Epoch 85/100\n",
      "2900/2900 [==============================] - 16s 6ms/step - loss: 0.2920 - accuracy: 0.8537\n",
      "Epoch 86/100\n",
      "2900/2900 [==============================] - 17s 6ms/step - loss: 0.2989 - accuracy: 0.8519\n",
      "Epoch 87/100\n",
      "2900/2900 [==============================] - 16s 6ms/step - loss: 0.2896 - accuracy: 0.8532\n",
      "Epoch 88/100\n",
      "2900/2900 [==============================] - 17s 6ms/step - loss: 0.2906 - accuracy: 0.8531\n",
      "Epoch 89/100\n",
      "2900/2900 [==============================] - 17s 6ms/step - loss: 0.2911 - accuracy: 0.8545\n",
      "Epoch 90/100\n",
      "2900/2900 [==============================] - 16s 6ms/step - loss: 0.2959 - accuracy: 0.8520\n",
      "Epoch 91/100\n",
      "2900/2900 [==============================] - 16s 6ms/step - loss: 0.2860 - accuracy: 0.8560\n",
      "Epoch 92/100\n",
      "2900/2900 [==============================] - 16s 6ms/step - loss: 0.2861 - accuracy: 0.8554\n",
      "Epoch 93/100\n",
      "2900/2900 [==============================] - 16s 6ms/step - loss: 0.2902 - accuracy: 0.8540\n",
      "Epoch 94/100\n",
      "2900/2900 [==============================] - 16s 6ms/step - loss: 0.2948 - accuracy: 0.8530\n",
      "Epoch 95/100\n",
      "2900/2900 [==============================] - 17s 6ms/step - loss: 0.2912 - accuracy: 0.8545\n",
      "Epoch 96/100\n",
      "2900/2900 [==============================] - 16s 6ms/step - loss: 0.2856 - accuracy: 0.8557\n",
      "Epoch 97/100\n",
      "2900/2900 [==============================] - 16s 6ms/step - loss: 0.2856 - accuracy: 0.8558\n",
      "Epoch 98/100\n",
      "2900/2900 [==============================] - 16s 6ms/step - loss: 0.2878 - accuracy: 0.8557\n",
      "Epoch 99/100\n",
      "2900/2900 [==============================] - 16s 6ms/step - loss: 0.2842 - accuracy: 0.8561\n",
      "Epoch 100/100\n",
      "2900/2900 [==============================] - 16s 6ms/step - loss: 0.2857 - accuracy: 0.8554\n"
     ]
    },
    {
     "data": {
      "text/plain": [
       "<keras.callbacks.History at 0x2034753d700>"
      ]
     },
     "execution_count": 28,
     "metadata": {},
     "output_type": "execute_result"
    }
   ],
   "source": [
    "model.fit(dd,target,epochs=100,batch_size = 100)#,batch_size = 100"
   ]
  },
  {
   "cell_type": "code",
   "execution_count": 29,
   "metadata": {},
   "outputs": [],
   "source": [
    "model.save(\"1CicloGPUtest.h5\")"
   ]
  },
  {
   "cell_type": "code",
   "execution_count": null,
   "metadata": {},
   "outputs": [],
   "source": []
  }
 ],
 "metadata": {
  "kernelspec": {
   "display_name": "tf_gpu",
   "language": "python",
   "name": "python3"
  },
  "language_info": {
   "codemirror_mode": {
    "name": "ipython",
    "version": 3
   },
   "file_extension": ".py",
   "mimetype": "text/x-python",
   "name": "python",
   "nbconvert_exporter": "python",
   "pygments_lexer": "ipython3",
   "version": "3.9.18"
  }
 },
 "nbformat": 4,
 "nbformat_minor": 2
}
