{
 "cells": [
  {
   "cell_type": "code",
   "execution_count": 80,
   "metadata": {},
   "outputs": [],
   "source": [
    "import numpy as np\n",
    "from collections import Counter\n",
    "import matplotlib.pyplot as plt\n",
    "from PQmodel import PQ\n",
    "from seaborn import heatmap\n",
    "from sklearn.metrics import confusion_matrix, f1_score\n",
    "from stockwell import st\n",
    "import tensorflow as tf\n",
    "from tensorflow.keras import layers, models"
   ]
  },
  {
   "cell_type": "code",
   "execution_count": 140,
   "metadata": {},
   "outputs": [],
   "source": [
    "Muestras=5000\n",
    "Prueba = PQ(Cicles=1,PeriodoDisturbio=1,InicioDisturbio=0,FS=3841)\n",
    "datos = Prueba.PQaleatorio(Muestras)"
   ]
  },
  {
   "cell_type": "code",
   "execution_count": 141,
   "metadata": {},
   "outputs": [],
   "source": [
    "def build_data(data):\n",
    "    Muestras,tSenal,LSenal=data.shape\n",
    "    db,dbl=[],[]\n",
    "\n",
    "    fmin = 0  # Hz\n",
    "    fmax = 60  # Hz\n",
    "    df = 1  # sampling step in frequency domain (Hz)\n",
    "\n",
    "    fmin_samples = int(fmin/df)\n",
    "    fmax_samples = int(fmax/df)\n",
    "\n",
    "    for j in range(Muestras):\n",
    "        for k in range (tSenal):\n",
    "            s = data[j,k]\n",
    "            stock = st.st(s, fmin_samples, fmax_samples)\n",
    "            sd= abs(stock.copy())\n",
    "            y=np.zeros(tSenal)\n",
    "            y[k]=1\n",
    "            db.append(sd)\n",
    "            dbl.append(y)\n",
    "\n",
    "    return np.array(db),np.array(dbl)"
   ]
  },
  {
   "cell_type": "code",
   "execution_count": 142,
   "metadata": {},
   "outputs": [],
   "source": [
    "tt,tt1=build_data(datos)"
   ]
  },
  {
   "cell_type": "code",
   "execution_count": 143,
   "metadata": {},
   "outputs": [
    {
     "data": {
      "text/plain": [
       "(145000, 61, 64)"
      ]
     },
     "execution_count": 143,
     "metadata": {},
     "output_type": "execute_result"
    }
   ],
   "source": [
    "tt.shape"
   ]
  },
  {
   "cell_type": "code",
   "execution_count": 145,
   "metadata": {},
   "outputs": [
    {
     "name": "stdout",
     "output_type": "stream",
     "text": [
      "Model: \"sequential_9\"\n",
      "_________________________________________________________________\n",
      " Layer (type)                Output Shape              Param #   \n",
      "=================================================================\n",
      " conv2d_27 (Conv2D)          (None, 53, 56, 32)        2624      \n",
      "                                                                 \n",
      " max_pooling2d_27 (MaxPoolin  (None, 26, 28, 32)       0         \n",
      " g2D)                                                            \n",
      "                                                                 \n",
      " conv2d_28 (Conv2D)          (None, 21, 23, 64)        73792     \n",
      "                                                                 \n",
      " max_pooling2d_28 (MaxPoolin  (None, 10, 11, 64)       0         \n",
      " g2D)                                                            \n",
      "                                                                 \n",
      " conv2d_29 (Conv2D)          (None, 8, 9, 128)         73856     \n",
      "                                                                 \n",
      " max_pooling2d_29 (MaxPoolin  (None, 4, 4, 128)        0         \n",
      " g2D)                                                            \n",
      "                                                                 \n",
      " flatten_9 (Flatten)         (None, 2048)              0         \n",
      "                                                                 \n",
      " dense_18 (Dense)            (None, 512)               1049088   \n",
      "                                                                 \n",
      " dense_19 (Dense)            (None, 29)                14877     \n",
      "                                                                 \n",
      "=================================================================\n",
      "Total params: 1,214,237\n",
      "Trainable params: 1,214,237\n",
      "Non-trainable params: 0\n",
      "_________________________________________________________________\n"
     ]
    }
   ],
   "source": [
    "# Definir el modelo CNN\n",
    "model = models.Sequential()\n",
    "\n",
    "# Capa convolucional 1\n",
    "model.add(layers.Conv2D(32, (9, 9), activation='relu', input_shape=(61, 64, 1)))\n",
    "model.add(layers.MaxPooling2D((2, 2)))\n",
    "\n",
    "# Capa convolucional 2\n",
    "model.add(layers.Conv2D(64, (6, 6), activation='relu'))\n",
    "model.add(layers.MaxPooling2D((2, 2)))\n",
    "\n",
    "# Capa convolucional 3\n",
    "model.add(layers.Conv2D(128, (3, 3), activation='relu'))\n",
    "model.add(layers.MaxPooling2D((2, 2)))\n",
    "\n",
    "# Aplanar la salida para conectarla a una capa completamente conectada\n",
    "model.add(layers.Flatten())\n",
    "\n",
    "# Capa completamente conectada 1\n",
    "model.add(layers.Dense(512, activation='relu'))\n",
    "\n",
    "# Capa de salida\n",
    "model.add(layers.Dense(29, activation='softmax'))  # 29 clases en la capa de salida\n",
    "\n",
    "# Compilar el modelo\n",
    "model.compile(optimizer='adam',\n",
    "              loss='categorical_crossentropy',\n",
    "              metrics=['accuracy'])\n",
    "\n",
    "# Resumen del modelo\n",
    "model.summary()"
   ]
  },
  {
   "cell_type": "code",
   "execution_count": 146,
   "metadata": {},
   "outputs": [
    {
     "name": "stdout",
     "output_type": "stream",
     "text": [
      "Epoch 1/50\n",
      "14500/14500 [==============================] - 286s 20ms/step - loss: 0.6187 - accuracy: 0.6976\n",
      "Epoch 2/50\n",
      "14500/14500 [==============================] - 283s 20ms/step - loss: 0.4701 - accuracy: 0.7478\n",
      "Epoch 3/50\n",
      "14500/14500 [==============================] - 281s 19ms/step - loss: 0.4563 - accuracy: 0.7526\n",
      "Epoch 4/50\n",
      "14500/14500 [==============================] - 277s 19ms/step - loss: 0.4482 - accuracy: 0.7583\n",
      "Epoch 5/50\n",
      "14500/14500 [==============================] - 271s 19ms/step - loss: 0.4420 - accuracy: 0.7628\n",
      "Epoch 6/50\n",
      "14500/14500 [==============================] - 271s 19ms/step - loss: 0.4310 - accuracy: 0.7718\n",
      "Epoch 7/50\n",
      "14500/14500 [==============================] - 272s 19ms/step - loss: 0.4104 - accuracy: 0.7868\n",
      "Epoch 8/50\n",
      "14500/14500 [==============================] - 273s 19ms/step - loss: 0.3962 - accuracy: 0.7954\n",
      "Epoch 9/50\n",
      "14500/14500 [==============================] - 275s 19ms/step - loss: 0.3888 - accuracy: 0.8009\n",
      "Epoch 10/50\n",
      "14500/14500 [==============================] - 273s 19ms/step - loss: 0.3789 - accuracy: 0.8062\n",
      "Epoch 11/50\n",
      "14500/14500 [==============================] - 273s 19ms/step - loss: 0.3725 - accuracy: 0.8101\n",
      "Epoch 12/50\n",
      "14500/14500 [==============================] - 273s 19ms/step - loss: 0.3672 - accuracy: 0.8124\n",
      "Epoch 13/50\n",
      "14500/14500 [==============================] - 272s 19ms/step - loss: 0.3614 - accuracy: 0.8160\n",
      "Epoch 14/50\n",
      "14500/14500 [==============================] - 286s 20ms/step - loss: 0.3601 - accuracy: 0.8156\n",
      "Epoch 15/50\n",
      "14500/14500 [==============================] - 295s 20ms/step - loss: 0.3570 - accuracy: 0.8190\n",
      "Epoch 16/50\n",
      "14500/14500 [==============================] - 317s 22ms/step - loss: 0.3550 - accuracy: 0.8178\n",
      "Epoch 17/50\n",
      "14500/14500 [==============================] - 308s 21ms/step - loss: 0.3514 - accuracy: 0.8211\n",
      "Epoch 18/50\n",
      "14500/14500 [==============================] - 290s 20ms/step - loss: 0.3511 - accuracy: 0.8233\n",
      "Epoch 19/50\n",
      "14500/14500 [==============================] - 289s 20ms/step - loss: 0.3493 - accuracy: 0.8238\n",
      "Epoch 20/50\n",
      "14500/14500 [==============================] - 306s 21ms/step - loss: 0.3483 - accuracy: 0.8264\n",
      "Epoch 21/50\n",
      "14500/14500 [==============================] - 293s 20ms/step - loss: 0.3448 - accuracy: 0.8276\n",
      "Epoch 22/50\n",
      "14500/14500 [==============================] - 282s 19ms/step - loss: 0.3422 - accuracy: 0.8292\n",
      "Epoch 23/50\n",
      "14500/14500 [==============================] - 283s 20ms/step - loss: 0.3427 - accuracy: 0.8288\n",
      "Epoch 24/50\n",
      "14500/14500 [==============================] - 281s 19ms/step - loss: 0.3392 - accuracy: 0.8312\n",
      "Epoch 25/50\n",
      "14500/14500 [==============================] - 282s 19ms/step - loss: 0.3361 - accuracy: 0.8323\n",
      "Epoch 26/50\n",
      "14500/14500 [==============================] - 274s 19ms/step - loss: 0.3375 - accuracy: 0.8322\n",
      "Epoch 27/50\n",
      "14500/14500 [==============================] - 275s 19ms/step - loss: 0.3378 - accuracy: 0.8337\n",
      "Epoch 28/50\n",
      "14500/14500 [==============================] - 276s 19ms/step - loss: 0.3350 - accuracy: 0.8346\n",
      "Epoch 29/50\n",
      "14500/14500 [==============================] - 275s 19ms/step - loss: 0.3354 - accuracy: 0.8337\n",
      "Epoch 30/50\n",
      "14500/14500 [==============================] - 273s 19ms/step - loss: 0.3338 - accuracy: 0.8345\n",
      "Epoch 31/50\n",
      "14500/14500 [==============================] - 282s 19ms/step - loss: 0.3353 - accuracy: 0.8353\n",
      "Epoch 32/50\n",
      "14500/14500 [==============================] - 283s 19ms/step - loss: 0.3325 - accuracy: 0.8366\n",
      "Epoch 33/50\n",
      "14500/14500 [==============================] - 288s 20ms/step - loss: 0.3348 - accuracy: 0.8365\n",
      "Epoch 34/50\n",
      "14500/14500 [==============================] - 287s 20ms/step - loss: 0.3311 - accuracy: 0.8372\n",
      "Epoch 35/50\n",
      "14500/14500 [==============================] - 280s 19ms/step - loss: 0.3346 - accuracy: 0.8376\n",
      "Epoch 36/50\n",
      "14500/14500 [==============================] - 281s 19ms/step - loss: 0.3303 - accuracy: 0.8387\n",
      "Epoch 37/50\n",
      "14500/14500 [==============================] - 279s 19ms/step - loss: 0.3328 - accuracy: 0.8398\n",
      "Epoch 38/50\n",
      "14500/14500 [==============================] - 278s 19ms/step - loss: 0.3285 - accuracy: 0.8384\n",
      "Epoch 39/50\n",
      "14500/14500 [==============================] - 278s 19ms/step - loss: 0.3313 - accuracy: 0.8386\n",
      "Epoch 40/50\n",
      "14500/14500 [==============================] - 282s 19ms/step - loss: 0.3303 - accuracy: 0.8380\n",
      "Epoch 41/50\n",
      "14500/14500 [==============================] - 271s 19ms/step - loss: 0.3367 - accuracy: 0.8392\n",
      "Epoch 42/50\n",
      "14500/14500 [==============================] - 267s 18ms/step - loss: 0.3292 - accuracy: 0.8388\n",
      "Epoch 43/50\n",
      "14500/14500 [==============================] - 266s 18ms/step - loss: 0.3325 - accuracy: 0.8386\n",
      "Epoch 44/50\n",
      "14500/14500 [==============================] - 267s 18ms/step - loss: 0.3303 - accuracy: 0.8393\n",
      "Epoch 45/50\n",
      "14500/14500 [==============================] - 268s 18ms/step - loss: 0.3290 - accuracy: 0.8384\n",
      "Epoch 46/50\n",
      "14500/14500 [==============================] - 266s 18ms/step - loss: 0.3309 - accuracy: 0.8388\n",
      "Epoch 47/50\n",
      "14500/14500 [==============================] - 267s 18ms/step - loss: 0.3273 - accuracy: 0.8406\n",
      "Epoch 48/50\n",
      "14500/14500 [==============================] - 268s 18ms/step - loss: 0.3285 - accuracy: 0.8396\n",
      "Epoch 49/50\n",
      "14500/14500 [==============================] - 267s 18ms/step - loss: 0.3290 - accuracy: 0.8395\n",
      "Epoch 50/50\n",
      "14500/14500 [==============================] - 267s 18ms/step - loss: 0.3273 - accuracy: 0.8391\n"
     ]
    },
    {
     "data": {
      "text/plain": [
       "<keras.callbacks.History at 0x28a2c6bd0>"
      ]
     },
     "execution_count": 146,
     "metadata": {},
     "output_type": "execute_result"
    }
   ],
   "source": [
    "model.fit(tt,tt1,epochs=50,batch_size = 10)"
   ]
  },
  {
   "cell_type": "code",
   "execution_count": 147,
   "metadata": {},
   "outputs": [],
   "source": [
    "Muestras=100\n",
    "Prueba = PQ(Cicles=1,PeriodoDisturbio=1,InicioDisturbio=0,FS=3841)\n",
    "datosp = Prueba.PQaleatorio(Muestras)"
   ]
  },
  {
   "cell_type": "code",
   "execution_count": 148,
   "metadata": {},
   "outputs": [],
   "source": [
    "xTest,yTest=build_data(datosp)"
   ]
  },
  {
   "cell_type": "code",
   "execution_count": 149,
   "metadata": {},
   "outputs": [
    {
     "data": {
      "text/plain": [
       "(2900, 61, 64)"
      ]
     },
     "execution_count": 149,
     "metadata": {},
     "output_type": "execute_result"
    }
   ],
   "source": [
    "xTest.shape"
   ]
  },
  {
   "cell_type": "code",
   "execution_count": 150,
   "metadata": {},
   "outputs": [
    {
     "name": "stdout",
     "output_type": "stream",
     "text": [
      "91/91 [==============================] - 2s 15ms/step\n"
     ]
    }
   ],
   "source": [
    "resultado=model.predict(xTest)"
   ]
  },
  {
   "cell_type": "code",
   "execution_count": 151,
   "metadata": {},
   "outputs": [],
   "source": [
    "def CrearCMdata(resultad,Muestras):\n",
    "    yp,y=[],[]\n",
    "    for k in range(Muestras):\n",
    "        for v in range(29):\n",
    "            #print(v)\n",
    "            senal=v\n",
    "            y.append(v)\n",
    "            yp.append(list(resultad[senal]).index(np.max(resultad[senal])))\n",
    "    return np.array(y),np.array(yp)"
   ]
  },
  {
   "cell_type": "code",
   "execution_count": 152,
   "metadata": {},
   "outputs": [
    {
     "data": {
      "text/plain": [
       "0.867816091954023"
      ]
     },
     "execution_count": 152,
     "metadata": {},
     "output_type": "execute_result"
    }
   ],
   "source": [
    "t,tp=CrearCMdata(resultado,Muestras)\n",
    "cmt =confusion_matrix(t,tp) \n",
    "f1_score(tp,t,average='weighted')"
   ]
  },
  {
   "cell_type": "code",
   "execution_count": 159,
   "metadata": {},
   "outputs": [
    {
     "data": {
      "text/plain": [
       "<Axes: >"
      ]
     },
     "execution_count": 159,
     "metadata": {},
     "output_type": "execute_result"
    },
    {
     "data": {
      "image/png": "[encoded data removed]",
      "text/plain": [
       "<Figure size 500x400 with 2 Axes>"
      ]
     },
     "metadata": {},
     "output_type": "display_data"
    }
   ],
   "source": [
    "fig, ax = plt.subplots(figsize=(5,4))\n",
    "heatmap(1-cmt/np.bincount(t), ax=ax)"
   ]
  },
  {
   "cell_type": "code",
   "execution_count": 154,
   "metadata": {},
   "outputs": [
    {
     "name": "stdout",
     "output_type": "stream",
     "text": [
      "[[ 0  0]\n",
      " [ 1  1]\n",
      " [ 2  2]\n",
      " ...\n",
      " [26 26]\n",
      " [27 27]\n",
      " [28 13]]\n"
     ]
    }
   ],
   "source": [
    "print(np.c_[t,tp])"
   ]
  },
  {
   "cell_type": "code",
   "execution_count": 160,
   "metadata": {},
   "outputs": [],
   "source": [
    "model.save(\"modelo_cnn2C.h5\")"
   ]
  },
  {
   "cell_type": "code",
   "execution_count": null,
   "metadata": {},
   "outputs": [],
   "source": []
  },
  {
   "cell_type": "code",
   "execution_count": null,
   "metadata": {},
   "outputs": [],
   "source": []
  },
  {
   "cell_type": "code",
   "execution_count": null,
   "metadata": {},
   "outputs": [],
   "source": []
  },
  {
   "cell_type": "code",
   "execution_count": null,
   "metadata": {},
   "outputs": [],
   "source": []
  },
  {
   "cell_type": "code",
   "execution_count": null,
   "metadata": {},
   "outputs": [],
   "source": []
  },
  {
   "cell_type": "code",
   "execution_count": null,
   "metadata": {},
   "outputs": [],
   "source": []
  },
  {
   "cell_type": "code",
   "execution_count": 26,
   "metadata": {},
   "outputs": [
    {
     "data": {
      "text/plain": [
       "(290, 61, 64)"
      ]
     },
     "execution_count": 26,
     "metadata": {},
     "output_type": "execute_result"
    }
   ],
   "source": [
    "tt.shape"
   ]
  },
  {
   "cell_type": "code",
   "execution_count": 27,
   "metadata": {},
   "outputs": [
    {
     "data": {
      "text/plain": [
       "(290, 29)"
      ]
     },
     "execution_count": 27,
     "metadata": {},
     "output_type": "execute_result"
    }
   ],
   "source": [
    "tt1.shape"
   ]
  },
  {
   "cell_type": "code",
   "execution_count": 21,
   "metadata": {},
   "outputs": [
    {
     "name": "stdout",
     "output_type": "stream",
     "text": [
      "1.0 0.0\n"
     ]
    },
    {
     "data": {
      "image/png": "[encoded data removed]",
      "text/plain": [
       "<Figure size 640x480 with 2 Axes>"
      ]
     },
     "metadata": {},
     "output_type": "display_data"
    }
   ],
   "source": [
    "t = np.linspace(0, 1, 64)\n",
    "w =  datosp[0,28]\n",
    "\n",
    "fmin = 0  # Hz\n",
    "fmax = 60  # Hz\n",
    "df = 1./(t[-1]-t[0])  # sampling step in frequency domain (Hz)\n",
    "print(df,t[0] )\n",
    "fmin_samples = int(fmin/df)\n",
    "fmax_samples = int(fmax/df)\n",
    "stock = st.st(w, fmin_samples, fmax_samples)\n",
    "extent = (t[0], t[-1], fmin, fmax)\n",
    "\n",
    "fig, ax = plt.subplots(2, 1, sharex=True)\n",
    "ax[0].plot(t, w)\n",
    "ax[0].set(ylabel='amplitude')\n",
    "ax[1].imshow(np.abs(stock), origin='lower', extent=extent)\n",
    "ax[1].axis('tight')\n",
    "ax[1].set(xlabel='time (s)', ylabel='frequency (Hz)')\n",
    "plt.show()"
   ]
  }
 ],
 "metadata": {
  "kernelspec": {
   "display_name": "base",
   "language": "python",
   "name": "python3"
  },
  "language_info": {
   "codemirror_mode": {
    "name": "ipython",
    "version": 3
   },
   "file_extension": ".py",
   "mimetype": "text/x-python",
   "name": "python",
   "nbconvert_exporter": "python",
   "pygments_lexer": "ipython3",
   "version": "3.11.0"
  },
  "orig_nbformat": 4
 },
 "nbformat": 4,
 "nbformat_minor": 2
}
